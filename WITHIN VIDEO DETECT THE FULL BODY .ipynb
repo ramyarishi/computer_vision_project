{
 "cells": [
  {
   "cell_type": "markdown",
   "id": "36e67b7e-eca5-4b6c-9fe1-2cd96c93f11c",
   "metadata": {},
   "source": [
    "**CREATE OR DOWNLOAD THE HAAR CASCADE CLASSIFIER**"
   ]
  },
  {
   "cell_type": "code",
   "execution_count": 4,
   "id": "ca518c2e-9966-440a-8f89-22d04c723449",
   "metadata": {},
   "outputs": [
    {
     "name": "stdout",
     "output_type": "stream",
     "text": [
      "Haar cascade loaded successfully.\n"
     ]
    }
   ],
   "source": [
    "import cv2\n",
    "\n",
    "# Load Haar cascade for full body detection\n",
    "body_classifier = cv2.CascadeClassifier(cv2.data.haarcascades + 'haarcascade_fullbody.xml')\n",
    "\n",
    "# Check if the classifier loaded correctly\n",
    "if body_classifier.empty():\n",
    "    print(\"Error: Haar cascade file not found!\")\n",
    "else:\n",
    "    print(\"Haar cascade loaded successfully.\")\n"
   ]
  },
  {
   "cell_type": "markdown",
   "id": "2202008c-042b-48a6-ad46-78774a07be7b",
   "metadata": {},
   "source": [
    "**Load the image/video**"
   ]
  },
  {
   "cell_type": "code",
   "execution_count": 9,
   "id": "a3d1f64c-935d-4fd8-9701-24f96ba08f50",
   "metadata": {},
   "outputs": [],
   "source": [
    "cap = cv2.VideoCapture(r\"C:\\Users\\L.RAMYA\\Downloads\\walking.avi\")\n",
    "while cap.isOpened():\n",
    "    check,frame = cap.read()\n",
    "    gray = cv2.cvtColor(frame,cv2.COLOR_BGR2GRAY)\n",
    "    bodies = body_classifier.detectMultiScale(gray,1.2,3)\n",
    "    # extract bounding boxes for any bodies identified\n",
    "    for(x,y,w,h) in bodies:\n",
    "        cv2.rectangle(frame,(x,y),(x+w,y+h),(0,255,255),2)\n",
    "        cv2.imshow('pedestrians',frame)\n",
    "    if cv2.waitKey(1) == ord('q'):\n",
    "\n",
    "        break\n",
    "cap.release()\n",
    "cv2.destroyAllWindows()"
   ]
  },
  {
   "cell_type": "markdown",
   "id": "5d355562-c446-4133-b874-ba148b622380",
   "metadata": {},
   "source": [
    "import cv2\n",
    "\n",
    "# Load Haar cascade for full-body detection\n",
    "body_classifier = cv2.CascadeClassifier(cv2.data.haarcascades + 'haarcascade_fullbody.xml')\n",
    "\n",
    "# Load the video file\n",
    "video_path = r\"C:\\Users\\L.RAMYA\\Downloads\\walking.avi\"\n",
    "cap = cv2.VideoCapture(video_path)\n",
    "\n",
    "# Check if the video file opened successfully\n",
    "if not cap.isOpened():\n",
    "    print(\"Error: Could not open video file!\")\n",
    "else:\n",
    "    print(\"Video loaded successfully.\")\n",
    "\n",
    "while cap.isOpened():\n",
    "    check, frame = cap.read()\n",
    "\n",
    "    # Check if the frame is valid\n",
    "    if not check or frame is None:\n",
    "        print(\"End of video or error in reading frame.\")\n",
    "        break\n",
    "\n",
    "    # Convert frame to grayscale\n",
    "    gray = cv2.cvtColor(frame, cv2.COLOR_BGR2GRAY)\n",
    "\n",
    "    # Detect full bodies\n",
    "    bodies = body_classifier.detectMultiScale(gray, scaleFactor=1.2, minNeighbors=3)\n",
    "\n",
    "    # Draw rectangles around detected bodies\n",
    "    for (x, y, w, h) in bodies:\n",
    "        cv2.rectangle(frame, (x, y), (x + w, y + h), (0, 255, 255), 2)\n",
    "\n",
    "    # Show the frame\n",
    "    cv2.imshow('Pedestrian Detection', frame)\n",
    "\n",
    "    # Press 'q' to exit\n",
    "    if cv2.waitKey(1) == ord('q'):\n",
    "        break\n",
    "\n",
    "cap.release()\n",
    "cv2.destroyAllWindows()\n"
   ]
  },
  {
   "cell_type": "code",
   "execution_count": null,
   "id": "3b350cf1-83f8-4fbc-9de3-b5f2dec3edc3",
   "metadata": {},
   "outputs": [],
   "source": []
  }
 ],
 "metadata": {
  "kernelspec": {
   "display_name": "Python 3 (ipykernel)",
   "language": "python",
   "name": "python3"
  },
  "language_info": {
   "codemirror_mode": {
    "name": "ipython",
    "version": 3
   },
   "file_extension": ".py",
   "mimetype": "text/x-python",
   "name": "python",
   "nbconvert_exporter": "python",
   "pygments_lexer": "ipython3",
   "version": "3.12.4"
  }
 },
 "nbformat": 4,
 "nbformat_minor": 5
}
