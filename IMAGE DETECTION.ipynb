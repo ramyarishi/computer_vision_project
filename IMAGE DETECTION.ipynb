{
 "cells": [
  {
   "cell_type": "markdown",
   "id": "2c637a11-5572-4813-83ab-4ed8cb5ca8a8",
   "metadata": {},
   "source": [
    "pip install opencv-python"
   ]
  },
  {
   "cell_type": "markdown",
   "id": "4aa76447-a88c-413c-8786-1703995794a7",
   "metadata": {},
   "source": [
    "import cv2\n",
    "print(cv2.__version__)\n"
   ]
  },
  {
   "cell_type": "code",
   "execution_count": 1,
   "id": "d43d5aae-001b-4687-9305-00264fbbe7d9",
   "metadata": {},
   "outputs": [],
   "source": [
    "import cv2"
   ]
  },
  {
   "cell_type": "code",
   "execution_count": 2,
   "id": "14f7d3df-b058-4d5b-9a2a-01fc30cbd8c2",
   "metadata": {},
   "outputs": [],
   "source": [
    "import numpy as np"
   ]
  },
  {
   "cell_type": "markdown",
   "id": "05892de1-c458-443d-b95d-55bdbe18881b",
   "metadata": {},
   "source": [
    "# Load/Read image"
   ]
  },
  {
   "cell_type": "code",
   "execution_count": 3,
   "id": "e8ad0dd6-e399-40bf-93b0-99ca6bb7b786",
   "metadata": {},
   "outputs": [],
   "source": [
    "# load an image using 'imread' specifying the path to image"
   ]
  },
  {
   "cell_type": "code",
   "execution_count": 4,
   "id": "cfdda366-eb02-42a4-88a1-815ab6f86d1a",
   "metadata": {},
   "outputs": [],
   "source": [
    "img = cv2.imread(r\"C:\\Users\\L.RAMYA\\Downloads\\Modi.jpg\",1)"
   ]
  },
  {
   "cell_type": "code",
   "execution_count": 5,
   "id": "4160ea07-6349-4caa-a1f7-2e735fd58eae",
   "metadata": {},
   "outputs": [
    {
     "data": {
      "text/plain": [
       "numpy.ndarray"
      ]
     },
     "execution_count": 5,
     "metadata": {},
     "output_type": "execute_result"
    }
   ],
   "source": [
    "type(img)"
   ]
  },
  {
   "cell_type": "code",
   "execution_count": 6,
   "id": "b53082c1-9716-46db-abb0-35ea90b09cec",
   "metadata": {},
   "outputs": [
    {
     "data": {
      "text/plain": [
       "3"
      ]
     },
     "execution_count": 6,
     "metadata": {},
     "output_type": "execute_result"
    }
   ],
   "source": [
    "img.ndim"
   ]
  },
  {
   "cell_type": "code",
   "execution_count": 7,
   "id": "f2b551b4-61d5-4428-ab0f-d55b20867a5f",
   "metadata": {},
   "outputs": [
    {
     "data": {
      "text/plain": [
       "(1358, 1500, 3)"
      ]
     },
     "execution_count": 7,
     "metadata": {},
     "output_type": "execute_result"
    }
   ],
   "source": [
    "img.shape"
   ]
  },
  {
   "cell_type": "code",
   "execution_count": 8,
   "id": "36809d52-7ee2-4168-9155-9990e871a3fa",
   "metadata": {},
   "outputs": [
    {
     "name": "stdout",
     "output_type": "stream",
     "text": [
      "[[[255 255 255]\n",
      "  [255 255 255]\n",
      "  [255 255 255]\n",
      "  ...\n",
      "  [255 255 255]\n",
      "  [255 255 255]\n",
      "  [255 255 255]]\n",
      "\n",
      " [[255 255 255]\n",
      "  [255 255 255]\n",
      "  [255 255 255]\n",
      "  ...\n",
      "  [255 255 255]\n",
      "  [255 255 255]\n",
      "  [255 255 255]]\n",
      "\n",
      " [[255 255 255]\n",
      "  [255 255 255]\n",
      "  [255 255 255]\n",
      "  ...\n",
      "  [255 255 255]\n",
      "  [255 255 255]\n",
      "  [255 255 255]]\n",
      "\n",
      " ...\n",
      "\n",
      " [[255 255 255]\n",
      "  [255 255 255]\n",
      "  [255 255 255]\n",
      "  ...\n",
      "  [255 255 255]\n",
      "  [255 255 255]\n",
      "  [255 255 255]]\n",
      "\n",
      " [[255 255 255]\n",
      "  [255 255 255]\n",
      "  [255 255 255]\n",
      "  ...\n",
      "  [255 255 255]\n",
      "  [255 255 255]\n",
      "  [255 255 255]]\n",
      "\n",
      " [[255 255 255]\n",
      "  [255 255 255]\n",
      "  [255 255 255]\n",
      "  ...\n",
      "  [255 255 255]\n",
      "  [255 255 255]\n",
      "  [255 255 255]]]\n"
     ]
    }
   ],
   "source": [
    "print(img)"
   ]
  },
  {
   "cell_type": "code",
   "execution_count": 9,
   "id": "394aea55-b2db-40ac-81a6-85500c3cd852",
   "metadata": {},
   "outputs": [],
   "source": [
    "# display the image\n",
    "cv2.imshow('Pm',img)\n",
    "cv2.waitKey()\n",
    "cv2.destroyAllWindows()"
   ]
  },
  {
   "cell_type": "code",
   "execution_count": 10,
   "id": "b6fbfed2-9829-4046-a7b7-83e0fc5e859a",
   "metadata": {},
   "outputs": [
    {
     "data": {
      "text/plain": [
       "(1358, 1500, 3)"
      ]
     },
     "execution_count": 10,
     "metadata": {},
     "output_type": "execute_result"
    }
   ],
   "source": [
    "img.shape"
   ]
  },
  {
   "cell_type": "code",
   "execution_count": 11,
   "id": "856ec08b-f44a-4952-9826-4b22aff04a3c",
   "metadata": {},
   "outputs": [],
   "source": [
    "# Resize Image"
   ]
  },
  {
   "cell_type": "code",
   "execution_count": 12,
   "id": "f217f8aa-ec2a-4ae5-a51f-1ae2b63be5f0",
   "metadata": {},
   "outputs": [],
   "source": [
    "img = cv2.imread(r\"C:\\Users\\L.RAMYA\\Downloads\\Modi.jpg\",1)\n",
    "\n",
    "resized_image = cv2.resize(img,(679,750))\n",
    "\n",
    "cv2.imshow('Prime minister',resized_image)\n",
    "cv2.waitKey()\n",
    "cv2.destroyAllWindows()\n"
   ]
  },
  {
   "cell_type": "markdown",
   "id": "4afbd190-1ac4-4e2a-a7b7-7ad2b784e3a6",
   "metadata": {},
   "source": [
    "**convert color image to black and white image**"
   ]
  },
  {
   "cell_type": "code",
   "execution_count": 13,
   "id": "b13c0f00-9fdc-409e-a040-6bedd5df08ac",
   "metadata": {},
   "outputs": [],
   "source": [
    "img = cv2.imread(r\"C:\\Users\\L.RAMYA\\Downloads\\Modi.jpg\",1)  # 1358*1500(color)\n",
    "\n",
    "resized_image = cv2.resize(img,(679,750))     # 679*750(color)\n",
    "\n",
    "gray = cv2.cvtColor(resized_image,cv2.COLOR_BGR2GRAY) # 679*750(b/w)\n",
    "\n",
    "cv2.imshow('Prime minister sir',gray) # you can change the name like resized_image(colorimg) or gray(b/w)\n",
    "cv2.waitKey()\n",
    "cv2.destroyAllWindows()"
   ]
  },
  {
   "cell_type": "markdown",
   "id": "0be517a1-75b5-44c6-8776-dd456d51ab96",
   "metadata": {},
   "source": [
    "# SAVE image"
   ]
  },
  {
   "cell_type": "code",
   "execution_count": 14,
   "id": "5ca0f057-8028-49a1-a6e7-ed5624d0f921",
   "metadata": {},
   "outputs": [
    {
     "data": {
      "text/plain": [
       "True"
      ]
     },
     "execution_count": 14,
     "metadata": {},
     "output_type": "execute_result"
    }
   ],
   "source": [
    "# simply use \"imwrite' specifing the file name and the image to be saved\n",
    "cv2.imwrite('bw.jpg',gray)"
   ]
  },
  {
   "cell_type": "markdown",
   "id": "289b2267-1e57-46b3-82ea-b8cd8ca01ba4",
   "metadata": {},
   "source": [
    "# Computer vision\n",
    "1. object detection as per your requirements\n",
    "2. if you want to detect human face , it detect human face\n",
    "3. if you to detect mobile ,it detect mobile within the given image"
   ]
  },
  {
   "cell_type": "code",
   "execution_count": 15,
   "id": "dd14e5a0-9559-413e-bb2a-e5fd6137de94",
   "metadata": {},
   "outputs": [],
   "source": [
    "img = cv2.imread(r\"C:\\Users\\L.RAMYA\\Downloads\\Modi.jpg\",1)  # 1358*1500(color)\n",
    "\n",
    "resized_image = cv2.resize(img,(679,750))     # 679*750(color)\n",
    "\n",
    "gray = cv2.cvtColor(resized_image,cv2.COLOR_BGR2GRAY) # 679*750(b/w)\n"
   ]
  },
  {
   "cell_type": "markdown",
   "id": "df588082-1053-4b05-9e46-b9c9b2c20c41",
   "metadata": {},
   "source": [
    "# Face Detection using HAAR cascade Classifiers"
   ]
  },
  {
   "cell_type": "code",
   "execution_count": 16,
   "id": "bd6b2967-d937-4abe-96ba-b372da4b19a2",
   "metadata": {},
   "outputs": [
    {
     "name": "stdout",
     "output_type": "stream",
     "text": [
      "Haar cascade loaded successfully.\n"
     ]
    }
   ],
   "source": [
    "import cv2\n",
    "\n",
    "# Load Haar cascade from OpenCV's default location\n",
    "face_classifier = cv2.CascadeClassifier(cv2.data.haarcascades + 'haarcascade_frontalface_default.xml')\n",
    "\n",
    "# Check if the classifier loaded correctly\n",
    "if face_classifier.empty():\n",
    "    print(\"Error: Haar cascade file not found!\")\n",
    "else:\n",
    "    print(\"Haar cascade loaded successfully.\")\n"
   ]
  },
  {
   "cell_type": "code",
   "execution_count": 17,
   "id": "4bd34645-74ed-4171-b281-e9af9713717a",
   "metadata": {},
   "outputs": [],
   "source": [
    "# Matching the features on given image\n",
    "\n",
    "faces = face_classifier.detectMultiScale(gray,1.5,5)"
   ]
  },
  {
   "cell_type": "code",
   "execution_count": 18,
   "id": "9a339e2e-ed14-4be5-aafd-26bc235cdcd6",
   "metadata": {},
   "outputs": [
    {
     "data": {
      "text/plain": [
       "array([[292, 145, 273, 273]])"
      ]
     },
     "execution_count": 18,
     "metadata": {},
     "output_type": "execute_result"
    }
   ],
   "source": [
    "faces"
   ]
  },
  {
   "cell_type": "code",
   "execution_count": 19,
   "id": "5c8bf519-2955-4f3e-9f9a-99c04f607836",
   "metadata": {},
   "outputs": [
    {
     "name": "stderr",
     "output_type": "stream",
     "text": [
      "<>:22: SyntaxWarning: \"is\" with 'tuple' literal. Did you mean \"==\"?\n",
      "<>:22: SyntaxWarning: \"is\" with 'tuple' literal. Did you mean \"==\"?\n",
      "C:\\Users\\L.RAMYA\\AppData\\Local\\Temp\\ipykernel_18524\\1313148464.py:22: SyntaxWarning: \"is\" with 'tuple' literal. Did you mean \"==\"?\n",
      "  if faces is():\n"
     ]
    },
    {
     "name": "stdout",
     "output_type": "stream",
     "text": [
      "Haar cascade loaded successfully.\n"
     ]
    }
   ],
   "source": [
    "import cv2\n",
    "\n",
    "# Load Haar cascade from OpenCV's default location\n",
    "face_classifier = cv2.CascadeClassifier(cv2.data.haarcascades + 'haarcascade_frontalface_default.xml')\n",
    "\n",
    "# Check if the classifier loaded correctly\n",
    "if face_classifier.empty():\n",
    "    print(\"Error: Haar cascade file not found!\")\n",
    "else:\n",
    "    print(\"Haar cascade loaded successfully.\")\n",
    "# load the image\n",
    "\n",
    "image = cv2.imread(r\"C:\\Users\\L.RAMYA\\Downloads\\Modi.jpg\",1)  # 1358*1500(color)\n",
    "\n",
    "resized_image = cv2.resize(img,(679,750))     # 679*750(color)\n",
    "\n",
    "gray = cv2.cvtColor(resized_image,cv2.COLOR_BGR2GRAY) # 679*750(b/w)\n",
    "\n",
    "\n",
    "faces = face_classifier.detectMultiScale(gray,1.1,5)\n",
    "\n",
    "if faces is():\n",
    "    print ('no faces found')\n",
    "\n",
    "else:\n",
    "    for (x,y,l,h) in faces:\n",
    "        cv2.rectangle(resized_image,(x,y),(x+l,y+h),(255,0,0),1)\n",
    "\n",
    "cv2.imshow('face detection',resized_image)\n",
    "cv2.waitKey()\n",
    "cv2.destroyAllWindows()\n"
   ]
  },
  {
   "cell_type": "code",
   "execution_count": 20,
   "id": "e7b613de-2cd2-47c7-ac61-46d86e3ae0a2",
   "metadata": {},
   "outputs": [
    {
     "name": "stdout",
     "output_type": "stream",
     "text": [
      "Faces found: 1\n"
     ]
    }
   ],
   "source": [
    "import cv2\n",
    "\n",
    "# Load Haar cascade from OpenCV's default location\n",
    "face_classifier = cv2.CascadeClassifier(cv2.data.haarcascades + 'haarcascade_frontalface_default.xml')\n",
    "eye_classifier = cv2.CascadeClassifier(cv2.data.haarcascades + 'haarcascade_eye.xml')  # Fixed eye cascade\n",
    "\n",
    "# Check if the classifiers loaded correctly\n",
    "if face_classifier.empty():\n",
    "    print(\"Error: Face cascade file not found!\")\n",
    "if eye_classifier.empty():\n",
    "    print(\"Error: Eye cascade file not found!\")\n",
    "\n",
    "# Load the image\n",
    "image = cv2.imread(r\"C:\\Users\\L.RAMYA\\Downloads\\Modi.jpg\")\n",
    "\n",
    "# Check if the image is loaded correctly\n",
    "if image is None:\n",
    "    print(\"Error: Image not found!\")\n",
    "else:\n",
    "    # Resize the image\n",
    "    resized_image = cv2.resize(image, (679, 750))  \n",
    "\n",
    "    # Convert to grayscale\n",
    "    gray = cv2.cvtColor(resized_image, cv2.COLOR_BGR2GRAY)\n",
    "\n",
    "    # Detect faces\n",
    "    faces = face_classifier.detectMultiScale(gray, scaleFactor=1.1, minNeighbors=5)\n",
    "\n",
    "    # Check if faces were found\n",
    "    if len(faces) == 0:\n",
    "        print(\"No faces found\")\n",
    "    else:\n",
    "        print(f\"Faces found: {len(faces)}\")\n",
    "\n",
    "        # Draw rectangles around detected faces\n",
    "        for (x, y, w, h) in faces:\n",
    "            cv2.rectangle(resized_image, (x, y), (x + w, y + h), (255, 0, 0), 3)\n",
    "\n",
    "            # Detect eyes within the detected face region\n",
    "            roi_gray = gray[y:y+h, x:x+w]\n",
    "            roi_color = resized_image[y:y+h, x:x+w]\n",
    "            eyes = eye_classifier.detectMultiScale(roi_gray, scaleFactor=1.05, minNeighbors=5)\n",
    "\n",
    "            for (ex, ey, ew, eh) in eyes:\n",
    "                cv2.rectangle(roi_color, (ex, ey), (ex + ew, ey + eh), (0, 255, 0), 2)\n",
    "\n",
    "        # Show the image with detected faces and eyes\n",
    "        cv2.imshow(\"Face and Eye Detection\", resized_image)\n",
    "        cv2.waitKey(0)\n",
    "        cv2.destroyAllWindows()\n",
    "\n"
   ]
  },
  {
   "cell_type": "markdown",
   "id": "1284d3df-ce01-4fb1-b3e3-db9445c9b5bf",
   "metadata": {},
   "source": [
    "# capture video"
   ]
  },
  {
   "cell_type": "markdown",
   "id": "21859df9-d15c-412a-8a19-1fcdbe656044",
   "metadata": {},
   "source": [
    "# doing some face recoginition with the webcam\n",
    "\n",
    "import cv2\n",
    "video = cv2.VideoCapture(0)\n",
    "\n",
    "while True:\n",
    "    check,frame = video.read()\n",
    "    gray = cv2.cvtColor(frame,cv2.COLOR_BGR2GRAY)\n",
    "    canvas = detect(gray,frame)\n",
    "    cv2.imshow('video',frame)\n",
    "    if cv2.waitKey(1) == ord('q'):\n",
    "        break\n",
    "video.release()\n",
    "cv2.destroyAllWindows()\n",
    "     "
   ]
  },
  {
   "cell_type": "code",
   "execution_count": 1,
   "id": "56846e00-1dab-4955-87a3-1a76aff2565a",
   "metadata": {},
   "outputs": [],
   "source": [
    "import cv2\n",
    "\n",
    "# Load Haar cascades for face and eye detection\n",
    "face_classifier = cv2.CascadeClassifier(cv2.data.haarcascades + 'haarcascade_frontalface_default.xml')\n",
    "eye_classifier = cv2.CascadeClassifier(cv2.data.haarcascades + 'haarcascade_eye.xml')\n",
    "\n",
    "# Check if cascades loaded correctly\n",
    "if face_classifier.empty():\n",
    "    print(\"Error: Face cascade file not found!\")\n",
    "if eye_classifier.empty():\n",
    "    print(\"Error: Eye cascade file not found!\")\n",
    "\n",
    "def detect(gray,frame):\n",
    "\n",
    "    # Detect faces\n",
    "    faces = face_classifier.detectMultiScale(gray, scaleFactor=1.1, minNeighbors=5)\n",
    "\n",
    "    for (x, y, w, h) in faces:\n",
    "        # Draw rectangle around face\n",
    "        cv2.rectangle(frame, (x, y), (x + w, y + h), (255, 0, 0), 3)\n",
    "\n",
    "        # Detect eyes within face ROI\n",
    "        roi_gray = gray[y:y+h, x:x+w]\n",
    "        roi_color = frame[y:y+h, x:x+w]\n",
    "        eyes = eye_classifier.detectMultiScale(roi_gray, scaleFactor=1.1, minNeighbors=5)\n",
    "\n",
    "        for (ex, ey, ew, eh) in eyes:\n",
    "            cv2.rectangle(roi_color, (ex, ey), (ex + ew, ey + eh), (0, 255, 0), 2)\n",
    "    return frame\n",
    "# doing some face recognition with the webcame\n",
    "video = cv2.VideoCapture(0)\n",
    "while True:\n",
    "    check,frame = video.read()\n",
    "    gray = cv2.cvtColor(frame,cv2.COLOR_BGR2GRAY)\n",
    "    canvas = detect(gray,gray)\n",
    "    cv2.imshow('video',gray)\n",
    "    if cv2.waitKey(1) == ord('q'):\n",
    "        break\n",
    "\n",
    "# Release webcam and close windows\n",
    "video.release()\n",
    "cv2.destroyAllWindows()\n"
   ]
  },
  {
   "cell_type": "code",
   "execution_count": 2,
   "id": "4ea57c53-bc47-4a1c-bc41-72a470e535f5",
   "metadata": {},
   "outputs": [],
   "source": [
    "import cv2\n",
    "\n",
    "# Load Haar cascades for face and eye detection\n",
    "face_classifier = cv2.CascadeClassifier(cv2.data.haarcascades + 'haarcascade_frontalface_default.xml')\n",
    "eye_classifier = cv2.CascadeClassifier(cv2.data.haarcascades + 'haarcascade_eye.xml')\n",
    "\n",
    "# Check if cascades loaded correctly\n",
    "if face_classifier.empty():\n",
    "    print(\"Error: Face cascade file not found!\")\n",
    "if eye_classifier.empty():\n",
    "    print(\"Error: Eye cascade file not found!\")\n",
    "\n",
    "def detect(gray, frame):\n",
    "    # Detect faces\n",
    "    faces = face_classifier.detectMultiScale(gray, scaleFactor=1.1, minNeighbors=5)\n",
    "\n",
    "    for (x, y, w, h) in faces:\n",
    "        # Draw rectangle around face (Blue)\n",
    "        cv2.rectangle(frame, (x, y), (x + w, y + h), (255, 0, 0), 3)\n",
    "\n",
    "        # Detect eyes within face ROI\n",
    "        roi_gray = gray[y:y+h, x:x+w]\n",
    "        roi_color = frame[y:y+h, x:x+w]\n",
    "        eyes = eye_classifier.detectMultiScale(roi_gray, scaleFactor=1.1, minNeighbors=5)\n",
    "qq\n",
    "        for (ex, ey, ew, eh) in eyes:\n",
    "            cv2.rectangle(roi_color, (ex, ey), (ex + ew, ey + eh), (0, 255, 0), 2)  # Green for eyes\n",
    "    return frame\n",
    "\n",
    "# Start webcam\n",
    "video = cv2.VideoCapture(0)\n",
    "\n",
    "while True:\n",
    "    check, frame = video.read()\n",
    "    gray = cv2.cvtColor(frame, cv2.COLOR_BGR2GRAY)\n",
    "    canvas = detect(gray, frame)  # Detect faces and eyes\n",
    "\n",
    "    cv2.imshow('Face & Eye Detection', canvas)  # ✅ FIXED: Show color image with detections\n",
    "\n",
    "    if cv2.waitKey(1) == ord('q'):  # Press 'q' to exit\n",
    "        break\n",
    "\n",
    "# Release webcam and close windows\n",
    "video.release()\n",
    "cv2.destroyAllWindows()\n"
   ]
  },
  {
   "cell_type": "code",
   "execution_count": null,
   "id": "1d5038b7-e3c4-467b-b05e-081baa84ddd6",
   "metadata": {},
   "outputs": [],
   "source": []
  },
  {
   "cell_type": "code",
   "execution_count": null,
   "id": "19438334-176f-4264-8208-ae6076d488da",
   "metadata": {},
   "outputs": [],
   "source": []
  }
 ],
 "metadata": {
  "kernelspec": {
   "display_name": "Python 3 (ipykernel)",
   "language": "python",
   "name": "python3"
  },
  "language_info": {
   "codemirror_mode": {
    "name": "ipython",
    "version": 3
   },
   "file_extension": ".py",
   "mimetype": "text/x-python",
   "name": "python",
   "nbconvert_exporter": "python",
   "pygments_lexer": "ipython3",
   "version": "3.12.4"
  }
 },
 "nbformat": 4,
 "nbformat_minor": 5
}
