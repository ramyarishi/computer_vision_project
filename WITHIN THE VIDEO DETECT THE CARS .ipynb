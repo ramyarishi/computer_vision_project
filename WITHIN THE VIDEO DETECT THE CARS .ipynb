{
 "cells": [
  {
   "cell_type": "code",
   "execution_count": 10,
   "id": "0a2f88ad-a774-44ce-b6e6-040c1aec37ba",
   "metadata": {},
   "outputs": [
    {
     "name": "stdout",
     "output_type": "stream",
     "text": [
      "Haar cascade loaded successfully.\n"
     ]
    }
   ],
   "source": [
    "import cv2\n",
    "\n",
    "# Load Haar cascade for car detection\n",
    "car_classifier = cv2.CascadeClassifier(r\"C:\\Users\\L.RAMYA\\Downloads\\cars.xml\")  # Ensure this file exists in your project directory\n",
    "\n",
    "# Check if the classifier loaded correctly\n",
    "if car_classifier.empty():\n",
    "    print(\"Error: Haar cascade file not found!\")\n",
    "else:\n",
    "    print(\"Haar cascade loaded successfully.\")\n"
   ]
  },
  {
   "cell_type": "code",
   "execution_count": 11,
   "id": "982a27d2-f564-4e1d-84c4-31365ccee80d",
   "metadata": {},
   "outputs": [],
   "source": [
    "import time\n",
    "cap = cv2.VideoCapture(r\"C:\\Users\\L.RAMYA\\Downloads\\cars.avi\")\n",
    "while cap.isOpened():\n",
    "    time.sleep(.01)\n",
    "    check,frame = cap.read()\n",
    "    gray = cv2.cvtColor(frame,cv2.COLOR_BGR2GRAY)\n",
    "    cars = car_classifier.detectMultiScale(gray,1.2,3)\n",
    "    # extract bounding boxes for any bodies identified\n",
    "    for(x,y,w,h) in cars:\n",
    "        cv2.rectangle(frame,(x,y),(x+w,y+h),(0,255,255),2)\n",
    "        cv2.imshow('car detection',frame)\n",
    "    if cv2.waitKey(1) == ord('q'):\n",
    "        break\n",
    "cap.release()\n",
    "cv2.destroyAllWindows()"
   ]
  },
  {
   "cell_type": "code",
   "execution_count": null,
   "id": "90f50df5-b0d5-4d97-a072-2c762bda0502",
   "metadata": {},
   "outputs": [],
   "source": []
  }
 ],
 "metadata": {
  "kernelspec": {
   "display_name": "Python 3 (ipykernel)",
   "language": "python",
   "name": "python3"
  },
  "language_info": {
   "codemirror_mode": {
    "name": "ipython",
    "version": 3
   },
   "file_extension": ".py",
   "mimetype": "text/x-python",
   "name": "python",
   "nbconvert_exporter": "python",
   "pygments_lexer": "ipython3",
   "version": "3.12.4"
  }
 },
 "nbformat": 4,
 "nbformat_minor": 5
}
